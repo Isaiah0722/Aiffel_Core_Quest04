{
 "cells": [
  {
   "cell_type": "code",
   "execution_count": 18,
   "id": "f8ec0edc",
   "metadata": {},
   "outputs": [
    {
     "name": "stdout",
     "output_type": "stream",
     "text": [
      "넓이를 구하고 싶은 사각형의 숫자를 써주세요.\n",
      " 1.직사각형 2.평행사변형 3.사다리꼴 \n",
      " >>>1\n",
      "직사각형 함수는 rect()입니다.\n",
      "가로, 세로를 입력하세요. 예시 : 가로,세로\n",
      " >>>4,2\n"
     ]
    }
   ],
   "source": [
    "#직사각형, 평행사변형, 사다리꼴 넓이 구하기\n",
    "class Square:\n",
    "    def __init__(self):\n",
    "        square = int(input('넓이를 구하고 싶은 사각형의 숫자를 써주세요.\\n 1.직사각형 2.평행사변형 3.사다리꼴 \\n >>>'))\n",
    "\n",
    "        if square == 1:\n",
    "            print('직사각형 함수는 rect()입니다.')\n",
    "\n",
    "        elif square == 2:\n",
    "            print('평행사변형 함수는 par()입니다.')\n",
    "        \n",
    "        elif square == 3:\n",
    "            print('사다리꼴 함수는 trape()입니다.')\n",
    "        \n",
    "        else:\n",
    "            print('1, 2, 3 중에서 다시 입력해주세요')\n",
    "\n",
    "    def rect(self):\n",
    "        width, vertical = map(int, input('가로, 세로를 입력하세요. 예시 : 가로,세로\\n >>>').split(','))\n",
    "        area = width * vertical\n",
    "        result = '직사각형의 넓이는 : ' + str(area)\n",
    "        return result\n",
    "\n",
    "    \n",
    "    def par(self):\n",
    "        par_width, par_height = map(int, input('밑변, 높이를 입력하세요. 예시 : 밑변,높이\\n >>>').split(','))\n",
    "        par_area = par_width * par_height\n",
    "        result = '평행사변형의 넓이는 : ' + str(par_area)\n",
    "        return result\n",
    "\n",
    "    def trape(self):\n",
    "        upper_side, lower_side, trape_height = map(int, input('윗변, 아랫변, 높이를 입력하세요. 예시 : 윗변,아랫변,높이\\n >>>').split(','))\n",
    "        trape_area = (upper_side + lower_side) * trape_height / 2\n",
    "        result = '사다리꼴의 넓이는 : ' + str(trape_area)\n",
    "        return result\n",
    "    \n",
    "    a = Square()\n",
    "    a.rect()\n",
    "    "
   ]
  },
  {
   "cell_type": "code",
   "execution_count": 19,
   "id": "5554dd7a",
   "metadata": {},
   "outputs": [
    {
     "name": "stdout",
     "output_type": "stream",
     "text": [
      "넓이를 구하고 싶은 사각형의 숫자를 써주세요.\n",
      " 1.직사각형 2.평행사변형 3.사다리꼴 \n",
      " >>>2\n",
      "평행사변형 함수는 par()입니다.\n",
      "밑변, 높이를 입력하세요. 예시 : 밑변,높이\n",
      " >>>10,2\n"
     ]
    },
    {
     "data": {
      "text/plain": [
       "'평행사변형의 넓이는 : 20'"
      ]
     },
     "execution_count": 19,
     "metadata": {},
     "output_type": "execute_result"
    }
   ],
   "source": [
    "b = Square()\n",
    "b.par()\n",
    "    "
   ]
  },
  {
   "cell_type": "code",
   "execution_count": 17,
   "id": "11634360",
   "metadata": {},
   "outputs": [
    {
     "name": "stdout",
     "output_type": "stream",
     "text": [
      "넓이를 구하고 싶은 사각형의 숫자를 써주세요.\n",
      " 1.직사각형 2.평행사변형 3.사다리꼴 \n",
      " >>>3\n",
      "사다리꼴 함수는 trape()입니다.\n",
      "윗변, 아랫변, 높이를 입력하세요. 예시 : 윗변,아랫변,높이\n",
      " >>>3, 5, 10\n"
     ]
    },
    {
     "data": {
      "text/plain": [
       "'사다리꼴의 넓이는 : 40.0'"
      ]
     },
     "execution_count": 17,
     "metadata": {},
     "output_type": "execute_result"
    }
   ],
   "source": [
    "c = Square()\n",
    "c.trape()"
   ]
  },
  {
   "cell_type": "code",
   "execution_count": 20,
   "id": "c0281b6f",
   "metadata": {},
   "outputs": [
    {
     "name": "stdout",
     "output_type": "stream",
     "text": [
      "1 americano  :  2000 원\n",
      "2 latte  :  3000 원\n",
      "3 mocha  :  3000 원\n",
      "4 yuza_tea  :  2500 원\n",
      "5 green_tea  :  2500 원\n",
      "6 choco_latte  :  3000 원\n",
      "음료 번호를 입력하세요 : 2\n",
      "HOT 음료는 1을 , ICE 음료는 2를 입력하세요 : 2\n",
      "ICE latte  :  3000 원\n",
      "\n",
      "추가 주문은 음료 번호를, 지불은 0을 누르세요 : 1\n",
      "HOT 음료는 1을, ICE 음료는 2를 입력하세요 : 2\n",
      "ICE americano  :  2000 원\n",
      "\n",
      "추가 주문은 음료 번호를, 지불은 0을 누르세요 : 4\n",
      "HOT 음료는 1을, ICE 음료는 2를 입력하세요 : 2\n",
      "ICE yuza_tea  :  2500 원\n",
      "\n",
      "추가 주문은 음료 번호를, 지불은 0을 누르세요 : 4\n",
      "HOT 음료는 1을, ICE 음료는 2를 입력하세요 : 3\n",
      "1과 2 중 하나를 입력하세요.\n",
      "\n",
      "HOT 음료는 1을, ICE 음료는 2를 입력하세요 : 4\n",
      "1과 2 중 하나를 입력하세요.\n",
      "\n",
      "HOT 음료는 1을, ICE 음료는 2를 입력하세요 : 2\n",
      "ICE yuza_tea  :  2500 원\n",
      "\n",
      "추가 주문은 음료 번호를, 지불은 0을 누르세요 : 5\n",
      "HOT 음료는 1을, ICE 음료는 2를 입력하세요 : 5\n",
      "1과 2 중 하나를 입력하세요.\n",
      "\n",
      "HOT 음료는 1을, ICE 음료는 2를 입력하세요 : 2\n",
      "ICE green_tea  :  2500 원\n",
      "\n",
      "추가 주문은 음료 번호를, 지불은 0을 누르세요 : 0\n",
      "현금(cash) 결제는 1을, 카드(card) 결제는 2를 입력하세요 : 2\n",
      "IC칩 방향에 맞게 카드를 꽂아주세요.\n",
      "⟝------------------------------⟞\n",
      "|                               |\n",
      "|                               |\n",
      "|                               |\n",
      "|                               |\n",
      "|                               |\n",
      "ICE latte  :  3000\n",
      "ICE americano  :  2000\n",
      "ICE yuza_tea  :  2500\n",
      "ICE yuza_tea  :  2500\n",
      "ICE green_tea  :  2500\n",
      "합계 금액 : 12500\n",
      "|                               |\n",
      "|                               |\n",
      "|                               |\n",
      "|                               |\n",
      "|                               |\n",
      "⟝------------------------------⟞\n"
     ]
    }
   ],
   "source": [
    "#키오스크 만들기\n",
    "menu = ['americano', 'latte', 'mocha', 'yuza_tea', 'green_tea', 'choco_latte']\n",
    "price = [2000, 3000, 3000, 2500, 2500, 3000]\n",
    "\n",
    "class Kiosk:\n",
    "    def __init__(self):\n",
    "        self.menu = menu\n",
    "        self.price = price\n",
    "\n",
    "    # 메뉴 출력 메서드\n",
    "    def menu_print(self):\n",
    "        for i in range(len(self.menu)):\n",
    "            print(i+1, self.menu[i], ' : ', self.price[i], '원')\n",
    "\n",
    "    # 주문 메서드\n",
    "    def menu_select(self):\n",
    "        self.order_menu = [] # 주문 리스트\n",
    "        self.order_price = [] # 가격 리스트\n",
    "\n",
    "        n = 0\n",
    "        while n < 1 or len(menu) < n:\n",
    "            n = int(input(\"음료 번호를 입력하세요 : \"))   # 음료 번호 입력\n",
    "\n",
    "            if n >= 1 and n <= len(menu):\n",
    "                self.order_price.append(self.price[n-1])  # 가격 리스트에 추가합니다.\n",
    "                self.price_sum = self.price[n-1]  # 합계 금액\n",
    "            else:\n",
    "                print(\"없는 메뉴입니다. 다시 주문해 주세요.\")\n",
    "        t = 0\n",
    "        while t != 1 and t != 2:\n",
    "            t = int(input(\"HOT 음료는 1을 , ICE 음료는 2를 입력하세요 : \"))\n",
    "            if t == 1:\n",
    "                self.temp = 'HOT'\n",
    "            elif t == 2:\n",
    "                self.temp = 'ICE'\n",
    "            else:\n",
    "                print(\"1과 2 중 하나를 입력하세요.\\n\")\n",
    "        \n",
    "        self.order_menu.append(self.temp + ' ' + self.menu[n-1])\n",
    "        print( self.temp, self.menu[n-1], ' : ', self.price[n-1], '원')\n",
    "\n",
    "        while n != 0:\n",
    "            print()\n",
    "            n = int(input(\"추가 주문은 음료 번호를, 지불은 0을 누르세요 : \"))   #추가 주문 또는 지불\n",
    "            if n >= 1 and n <= len(menu):\n",
    "                self.order_price.append(self.price[n-1])  # 가격 리스트에 추가합니다.\n",
    "                self.price_sum = self.price[n-1]  # 합계 금액\n",
    "            \n",
    "                t = 0\n",
    "                while t != 1 and t != 2:\n",
    "                    t = int(input(\"HOT 음료는 1을, ICE 음료는 2를 입력하세요 : \"))\n",
    "                    if t == 1:\n",
    "                        self.temp = 'HOT'\n",
    "                    elif t == 2:\n",
    "                        self.temp = 'ICE'\n",
    "                    else:\n",
    "                        print(\"1과 2 중 하나를 입력하세요.\\n\")\n",
    "\n",
    "                self.order_menu.append(self.temp + ' ' + self.menu[n-1])\n",
    "                print( self.temp, self.menu[n-1], ' : ', self.price[n-1], '원')    \n",
    "    # 지불\n",
    "    def pay(self):\n",
    "        p = 0\n",
    "        while p != 1 and p != 2:\n",
    "            p = int(input(\"현금(cash) 결제는 1을, 카드(card) 결제는 2를 입력하세요 : \"))\n",
    "            if p == 1:\n",
    "                print('직원을 호출하겠습니다.')\n",
    "            elif p == 2:\n",
    "                print('IC칩 방향에 맞게 카드를 꽂아주세요.')\n",
    "            else:\n",
    "                print('1과 2 중 하나를 입력하세요.\\n')\n",
    "\n",
    "    # 주문서 출력 \n",
    "    def table(self):\n",
    "        # 외곽\n",
    "        print('⟝' + '-' * 30 + '⟞')\n",
    "        for i in range(5):\n",
    "            print('|' + ' ' * 31 + '|')\n",
    "\n",
    "        # 주문 상품명 : 해당 금액\n",
    "        for i in range(len(self.order_menu)):\n",
    "            print(self.order_menu[i], ' : ', self.order_price[i])\n",
    "\n",
    "        print('합계 금액 :', sum(self.order_price))\n",
    "\n",
    "        # 외곽\n",
    "        for i in range(5):\n",
    "            print('|' + ' ' * 31+ '|')\n",
    "        print('⟝' + '-' * 30 + '⟞')\n",
    "\n",
    "a = Kiosk()  # 객체 생성 \n",
    "a.menu_print()  # 메뉴 출력\n",
    "a.menu_select()  # 주문\n",
    "a.pay()  # 지불\n",
    "a.table()  # 주문표 출력"
   ]
  },
  {
   "cell_type": "code",
   "execution_count": null,
   "id": "e0f95571",
   "metadata": {},
   "outputs": [],
   "source": []
  }
 ],
 "metadata": {
  "kernelspec": {
   "display_name": "Python 3 (ipykernel)",
   "language": "python",
   "name": "python3"
  },
  "language_info": {
   "codemirror_mode": {
    "name": "ipython",
    "version": 3
   },
   "file_extension": ".py",
   "mimetype": "text/x-python",
   "name": "python",
   "nbconvert_exporter": "python",
   "pygments_lexer": "ipython3",
   "version": "3.9.7"
  }
 },
 "nbformat": 4,
 "nbformat_minor": 5
}
