{
  "nbformat": 4,
  "nbformat_minor": 0,
  "metadata": {
    "colab": {
      "provenance": [],
      "include_colab_link": true
    },
    "kernelspec": {
      "name": "python3",
      "display_name": "Python 3"
    },
    "language_info": {
      "name": "python"
    }
  },
  "cells": [
    {
      "cell_type": "markdown",
      "metadata": {
        "id": "view-in-github",
        "colab_type": "text"
      },
      "source": [
        "<a href=\"https://colab.research.google.com/github/youngsoopar/Aiffel_Core_Quest/blob/main/Quest02/Quest02.ipynb\" target=\"_parent\"><img src=\"https://colab.research.google.com/assets/colab-badge.svg\" alt=\"Open In Colab\"/></a>"
      ]
    },
    {
      "cell_type": "code",
      "execution_count": 15,
      "metadata": {
        "colab": {
          "base_uri": "https://localhost:8080/"
        },
        "id": "-Sn0xoZVwU6b",
        "outputId": "dd49bb75-c5b3-49f6-b66c-ce471d09641f"
      },
      "outputs": [
        {
          "output_type": "stream",
          "name": "stdout",
          "text": [
            "미로를 찾았습니다.\n",
            "2 0 2 2 2 \n",
            "2 0 2 0 2 \n",
            "2 0 2 0 2 \n",
            "2 2 2 0 2 \n",
            "0 2 2 0 2 \n"
          ]
        }
      ],
      "source": [
        "def search_maze(maze):\n",
        "    # 미로 크기\n",
        "    n = 5\n",
        "\n",
        "    # 방문한 위치 표시를 위한 2차원 리스트 생성\n",
        "    visited = [[0] * n for _ in range(n)]\n",
        "\n",
        "    # 상하좌우 이동을 위한 좌표 변화량\n",
        "    dx = [-1, 1, 0, 0]\n",
        "    dy = [0, 0, -1, 1]\n",
        "\n",
        "    # DFS를 사용하여 미로 탐색\n",
        "    def dfs(x, y):\n",
        "        # 목적지에 도착한 경우\n",
        "        if x == n - 1 and y == n - 1:\n",
        "            visited[x][y] = 2  # 도착지점에 2를 표시\n",
        "            print(\"미로를 찾았습니다.\")\n",
        "            return True\n",
        "\n",
        "        # 현재 위치를 방문한 것으로 표시\n",
        "        visited[x][y] = 2\n",
        "\n",
        "        # 상하좌우로 이동\n",
        "        for i in range(4):\n",
        "            nx = x + dx[i]\n",
        "            ny = y + dy[i]\n",
        "\n",
        "            # 이동한 위치가 미로 범위를 벗어나지 않고, 아직 방문하지 않은 길인 경우\n",
        "            if 0 <= nx < n and 0 <= ny < n and maze[nx][ny] == 0 and visited[nx][ny] == 0:\n",
        "                # 다음 위치로 이동\n",
        "                if dfs(nx, ny):\n",
        "                    return True\n",
        "\n",
        "        # 도착하지 못한 경우, 현재 위치를 방문하지 않은 것으로 되돌림\n",
        "        visited[x][y] = 0\n",
        "        return False\n",
        "\n",
        "    # 시작 위치에서 DFS 호출\n",
        "    if dfs(0, 0):\n",
        "        # 미로 탐색이 성공한 경우, 방문한 위치와 도착 지점 출력\n",
        "        for row in visited:\n",
        "            for i in range(n):\n",
        "                if row[i] == 2:\n",
        "                    print(2, end=' ')\n",
        "                else:\n",
        "                    print(0, end=' ')\n",
        "            print()\n",
        "    else:\n",
        "        print(\"미로를 찾을 수 없습니다.\")\n",
        "\n",
        "\n",
        "maze = [\n",
        "    [0, 0, 0, 0, 0],\n",
        "    [0, 1, 0, 1, 0],\n",
        "    [0, 1, 0, 1, 0],\n",
        "    [0, 0, 0, 1, 0],\n",
        "    [1, 0, 0, 0, 0]\n",
        "]\n",
        "\n",
        "search_maze(maze)"
      ]
    }
  ]
}