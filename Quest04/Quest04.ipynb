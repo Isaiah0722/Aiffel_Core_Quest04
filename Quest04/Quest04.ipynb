{
  "nbformat": 4,
  "nbformat_minor": 0,
  "metadata": {
    "colab": {
      "provenance": [],
      "include_colab_link": true
    },
    "kernelspec": {
      "name": "python3",
      "display_name": "Python 3"
    },
    "language_info": {
      "name": "python"
    }
  },
  "cells": [
    {
      "cell_type": "markdown",
      "metadata": {
        "id": "view-in-github",
        "colab_type": "text"
      },
      "source": [
        "<a href=\"https://colab.research.google.com/github/youngsoopar/Aiffel_Core_Quest/blob/main/Quest04/Quest04.ipynb\" target=\"_parent\"><img src=\"https://colab.research.google.com/assets/colab-badge.svg\" alt=\"Open In Colab\"/></a>"
      ]
    },
    {
      "cell_type": "code",
      "execution_count": 13,
      "metadata": {
        "id": "k_Cb99TFoewF",
        "colab": {
          "base_uri": "https://localhost:8080/",
          "height": 408
        },
        "outputId": "a90e9d2a-f343-4a06-c4ea-1829a7b8fb70"
      },
      "outputs": [
        {
          "output_type": "stream",
          "name": "stdout",
          "text": [
            "Using Comprehension:\n",
            "Nemo is swimming at 3 m/s\n",
            "Dory is swimming at 5 m/s\n",
            "Using Generator:\n"
          ]
        },
        {
          "output_type": "error",
          "ename": "NameError",
          "evalue": "ignored",
          "traceback": [
            "\u001b[0;31m---------------------------------------------------------------------------\u001b[0m",
            "\u001b[0;31mNameError\u001b[0m                                 Traceback (most recent call last)",
            "\u001b[0;32m<ipython-input-13-cf5fd3ea8317>\u001b[0m in \u001b[0;36m<cell line: 39>\u001b[0;34m()\u001b[0m\n\u001b[1;32m     37\u001b[0m \u001b[0mshow_fish_movement_comprehension\u001b[0m\u001b[0;34m(\u001b[0m\u001b[0mfish_list\u001b[0m\u001b[0;34m)\u001b[0m\u001b[0;34m\u001b[0m\u001b[0;34m\u001b[0m\u001b[0m\n\u001b[1;32m     38\u001b[0m \u001b[0mprint\u001b[0m\u001b[0;34m(\u001b[0m\u001b[0;34m\"Using Generator:\"\u001b[0m\u001b[0;34m)\u001b[0m\u001b[0;34m\u001b[0m\u001b[0;34m\u001b[0m\u001b[0m\n\u001b[0;32m---> 39\u001b[0;31m \u001b[0mshow_fish_movement_Generator\u001b[0m\u001b[0;34m(\u001b[0m\u001b[0mfish_list\u001b[0m\u001b[0;34m)\u001b[0m\u001b[0;34m\u001b[0m\u001b[0;34m\u001b[0m\u001b[0m\n\u001b[0m",
            "\u001b[0;32m<ipython-input-13-cf5fd3ea8317>\u001b[0m in \u001b[0;36mshow_fish_movement_Generator\u001b[0;34m(fish_list)\u001b[0m\n\u001b[1;32m     23\u001b[0m \u001b[0;34m\u001b[0m\u001b[0m\n\u001b[1;32m     24\u001b[0m \u001b[0;31m#  fish_generator = fish_movement_generator()          #제너레이터 함수 호출\u001b[0m\u001b[0;34m\u001b[0m\u001b[0;34m\u001b[0m\u001b[0m\n\u001b[0;32m---> 25\u001b[0;31m   \u001b[0mprint\u001b[0m\u001b[0;34m(\u001b[0m\u001b[0mnext\u001b[0m\u001b[0;34m(\u001b[0m\u001b[0mfish_generator\u001b[0m\u001b[0;34m)\u001b[0m\u001b[0;34m)\u001b[0m\u001b[0;34m\u001b[0m\u001b[0;34m\u001b[0m\u001b[0m\n\u001b[0m\u001b[1;32m     26\u001b[0m   \u001b[0mtime\u001b[0m\u001b[0;34m.\u001b[0m\u001b[0msleep\u001b[0m\u001b[0;34m(\u001b[0m\u001b[0;36m2\u001b[0m\u001b[0;34m)\u001b[0m\u001b[0;34m\u001b[0m\u001b[0;34m\u001b[0m\u001b[0m\n\u001b[1;32m     27\u001b[0m   \u001b[0mprint\u001b[0m\u001b[0;34m(\u001b[0m\u001b[0mnext\u001b[0m\u001b[0;34m(\u001b[0m\u001b[0mfish_generator\u001b[0m\u001b[0;34m)\u001b[0m\u001b[0;34m)\u001b[0m\u001b[0;34m\u001b[0m\u001b[0;34m\u001b[0m\u001b[0m\n",
            "\u001b[0;31mNameError\u001b[0m: name 'fish_generator' is not defined"
          ]
        }
      ],
      "source": [
        "\n",
        "# 아래 물고기 리스트를 입력값으로 넣었을때 물고기의 움직임을 출력값으로 뱉어내도록 만들어봅시다.\n",
        "#  물고기의 움직임을 출력하는 함수 2개(컴프리헨션, 제너레이터)를 만듭니다.\n",
        "# 컴프리헨션 함수에는 이름, 속도를 조합하고 제너레이터 함수에는 for문과 yield문을 활용합니다.\n",
        "# 물고기 리스트를 입력받으면, 2개의 함수는 물고기 이름과, 속도를 출력해야 합니다.\n",
        "# 물고기 객체의 움직임은 일정 시간(2초) 간격으로 반복되어야 합니다.\n",
        "\n",
        "import time                       #2초 시간 지연을 위한 time 메서드 임포트\n",
        "\n",
        "\n",
        "# 컴프리헨션\n",
        "def show_fish_movement_comprehension(fish_list) :     #입력된 컴프리헨션 함수 호출\n",
        "  movements = [f'{fish[\"이름\"]} is swimming at {fish[\"speed\"]} m/s' for fish in fish_list]      #리스트 컴프리헨션 작성\n",
        "  for movement in movements :                         #for문을 이용해 리스트 출력\n",
        "    print(movement)\n",
        "    time.sleep(2)                                     #시간 2초 지연\n",
        "\n",
        "# 제너레이터\n",
        "def show_fish_movement_Generator(fish_list):          #입력된 제너레이터 함수 호출\n",
        "  def fish_movement_generator():                      #제너레이터 함수 생성\n",
        "   for fish in fish_list:\n",
        "    yield f'{fish[\"이름\"]} is swimming at {fish[\"speed\"]} m/s'\n",
        "\n",
        "\n",
        "  fish_generator = fish_movement_generator()          #계속 사용할 제너레이터 변수 생성\n",
        "  print(next(fish_generator))\n",
        "  time.sleep(2)                                       #시간 2초 지연\n",
        "  print(next(fish_generator))\n",
        "\n",
        "\n",
        "# 물고기 리스트 입력\n",
        "fish_list = [\n",
        " {\"이름\": \"Nemo\", \"speed\": 3},\n",
        "{\"이름\": \"Dory\", \"speed\": 5},\n",
        "]\n",
        "\n",
        "print(\"Using Comprehension:\")\n",
        "show_fish_movement_comprehension(fish_list)\n",
        "print(\"Using Generator:\")\n",
        "show_fish_movement_Generator(fish_list)\n"
      ]
    }
  ]
}