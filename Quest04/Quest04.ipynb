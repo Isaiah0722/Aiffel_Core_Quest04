{
  "nbformat": 4,
  "nbformat_minor": 0,
  "metadata": {
    "colab": {
      "provenance": [],
      "include_colab_link": true
    },
    "kernelspec": {
      "name": "python3",
      "display_name": "Python 3"
    },
    "language_info": {
      "name": "python"
    }
  },
  "cells": [
    {
      "cell_type": "markdown",
      "metadata": {
        "id": "view-in-github",
        "colab_type": "text"
      },
      "source": [
        "<a href=\"https://colab.research.google.com/github/youngsoopar/Aiffel_Core_Quest/blob/main/Quest04/Quest04.ipynb\" target=\"_parent\"><img src=\"https://colab.research.google.com/assets/colab-badge.svg\" alt=\"Open In Colab\"/></a>"
      ]
    },
    {
      "cell_type": "code",
      "source": [
        "import time                       #2초 시간 지연을 위한 time 메서드 임포트\n",
        "\n",
        "# 컴프리헨션\n",
        "def show_fish_movement_comprehension(fish_list) :     #입력된 컴프리헨션 함수 호출\n",
        "  movements = [f'{fish[\"이름\"]} is swimming at {fish[\"speed\"]} m/s' for fish in fish_list]      #fstring 및 딕셔너리 key 호출 이용하여 리스트 컴프리헨션 작성\n",
        "  for i in movements :                                #for문을 이용해 리스트 출력\n",
        "    print(i)\n",
        "    time.sleep(2)                                     #시간 2초 지연\n",
        "\n",
        "# 제너레이터\n",
        "def show_fish_movement_Generator(fish_list):          #입력된 제너레이터 함수 호출\n",
        "  def fish_movement_generator():                      #제너레이터 함수 생성\n",
        "   for fish in fish_list:\n",
        "    yield f'{fish[\"이름\"]} is swimming at {fish[\"speed\"]} m/s'\n",
        "\n",
        "\n",
        "  fish_generator = fish_movement_generator()          #계속 사용할 제너레이터 변수 생성\n",
        "  for j in fish_generator:\n",
        "      print(j)\n",
        "      time.sleep(2)\n",
        "\n",
        "\n",
        "# 물고기 리스트 입력\n",
        "a = int(input('입력할 물고기 갯수를 입력해주세요.: '))   # 물고기 수를 입력 받는다\n",
        "fish_list = []\n",
        "\n",
        "for i in range(a):                              # 물고기 수만큼 이름과 속도를 입력받는다\n",
        "    name = input(\"물고기의 이름을 입력하세요.: \")\n",
        "    speed = int(input(\"물고기의 속도를 입력하세요.: \"))\n",
        "    fish = {\"이름\":name, \"speed\":speed}           # 위의 값을 딕셔너리 형태로 만들어준다\n",
        "    fish_list.append(fish)                       # 기존 리스트에 위의 값을 붙여 넣는다\n",
        "\n",
        "\n",
        "print(\"Using Comprehension:\")\n",
        "show_fish_movement_comprehension(fish_list)\n",
        "print(\"Using Generator:\")\n",
        "show_fish_movement_Generator(fish_list)\n"
      ],
      "metadata": {
        "colab": {
          "base_uri": "https://localhost:8080/"
        },
        "id": "FsFIHH0B_wgQ",
        "outputId": "eb8d37ec-cdb0-4164-c832-e083bd7a99dc"
      },
      "execution_count": 19,
      "outputs": [
        {
          "output_type": "stream",
          "name": "stdout",
          "text": [
            "입력할 물고기 갯수를 입력해주세요.: 3\n",
            "물고기의 이름을 입력하세요.: 가\n",
            "물고기의 속도를 입력하세요.: 3\n",
            "물고기의 이름을 입력하세요.: 나\n",
            "물고기의 속도를 입력하세요.: 5\n",
            "물고기의 이름을 입력하세요.: 다\n",
            "물고기의 속도를 입력하세요.: 7\n",
            "Using Comprehension:\n",
            "가 is swimming at 3 m/s\n",
            "나 is swimming at 5 m/s\n",
            "다 is swimming at 7 m/s\n",
            "Using Generator:\n",
            "가 is swimming at 3 m/s\n",
            "나 is swimming at 5 m/s\n",
            "다 is swimming at 7 m/s\n"
          ]
        }
      ]
    }
  ]
}