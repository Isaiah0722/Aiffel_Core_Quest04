{
  "nbformat": 4,
  "nbformat_minor": 0,
  "metadata": {
    "colab": {
      "provenance": [],
      "authorship_tag": "ABX9TyNoaxFCXMpUJ1mOLFyqV+YT",
      "include_colab_link": true
    },
    "kernelspec": {
      "name": "python3",
      "display_name": "Python 3"
    },
    "language_info": {
      "name": "python"
    }
  },
  "cells": [
    {
      "cell_type": "markdown",
      "metadata": {
        "id": "view-in-github",
        "colab_type": "text"
      },
      "source": [
        "<a href=\"https://colab.research.google.com/github/youngsoopar/Aiffel_Core_Quest/blob/main/Main_Quest01/Main_Quest01.ipynb\" target=\"_parent\"><img src=\"https://colab.research.google.com/assets/colab-badge.svg\" alt=\"Open In Colab\"/></a>"
      ]
    },
    {
      "cell_type": "code",
      "execution_count": 57,
      "metadata": {
        "colab": {
          "base_uri": "https://localhost:8080/"
        },
        "id": "YGoJJXvC-L4U",
        "outputId": "a958bf89-803b-4e63-c451-9b9a8667166a"
      },
      "outputs": [
        {
          "output_type": "stream",
          "name": "stdout",
          "text": [
            "은행이름: SC은행, 예금주: 손흥민, 계좌번호: 383-25-906917, 잔고: 123,456,789\n",
            "은행이름: SC은행, 예금주: 봉준호, 계좌번호: 945-46-275531, 잔고: 987,654,321\n"
          ]
        }
      ],
      "source": [
        "import random           #계좌번호 3 - 2 - 6 자리 랜덤생성을 위한 random 모듈 import\n",
        "#Account 클래스 만들기\n",
        "class Account:\n",
        "    account_num = 0     #클래스 변수로 계좌 클래스 인스턴스 개수 저장\n",
        "    def __init__(self, name, balance):\n",
        "        self.bank = 'SC은행'\n",
        "        self.name = name\n",
        "        self.balance = balance\n",
        "        num_3 = random.randint(0,999)               # 3 - 2 - 6자리 랜덤숫자 생성\n",
        "        num_2 = random.randint(0,99)\n",
        "        num_6 = random.randint(0,999999)\n",
        "\n",
        "        num_3_2 = str(num_3).zfill(3)                 # 3자리인데 2자리 랜덤이 나올경우 빈자리에 0 추가.\n",
        "        num_2_2 = str(num_2).zfill(2)                 # zfill함수 정수는 사용이 안되므로 str로 변경.\n",
        "        num_6_2 = str(num_6).zfill(6)\n",
        "        self.account_code = num_3_2 + '-' + num_2_2 +'-' + num_6_2     #계좌 3 - 2 - 6 랜덤하게 생성\n",
        "        Account.account_num += 1                     #계좌 인스턴스 생성시 계좌 갯수 count\n",
        "        self.deposit_count = 0\n",
        "        self.deposit_story = []\n",
        "        self.withdraw_story = []\n",
        "\n",
        "#클래스 변수 출력 get_account_num() 으로 인스턴스 갯수 호출하기\n",
        "    @classmethod\n",
        "    def get_account_num(cls):\n",
        "        print(cls.account_num)\n",
        "\n",
        "#입금 메서드 deposit 메서드를 추가 ,최소 1원 이상만 가능\n",
        "    def deposit(self, deposit):\n",
        "        if deposit < 1:\n",
        "            print('1원 이상 입금해 주세요.')      # 입금액이 1원 이하일 경우 안내 문구 출력\n",
        "        else:\n",
        "            self.balance += deposit\n",
        "            self.deposit_count += 1              # 입금 횟수 count\n",
        "            self.deposit_story.append(deposit)   # 입금할 때마다 입금액을 self.deposit_story 에 추가\n",
        "            if self.deposit_count == 5:          # 입금 횟수가 5회일때 이자지급 코드 삽입\n",
        "                self.balance *= 1.01\n",
        "                self.deposit_count -= 5          # 이자 지급 했으면 입금 count 초기화\n",
        "\n",
        "#출금 메서드 withdraw 메서드 추가 , 계좌 잔고이상 출금 불가\n",
        "    def withdraw(self, withdraw):\n",
        "        if withdraw > self.balance:\n",
        "            print('잔액을 초과하는 금액은 출금이 불가능합니다.')       # 출금액이 잔액 이상 일경우, 안내 문구 출력\n",
        "        else:\n",
        "            self.balance -= withdraw\n",
        "            self.withdraw_story.append(withdraw)    # 출금할 때마다 출금액을 self.withdraw_story 에 추가\n",
        "\n",
        "#정보 출력 메서드 :  display_info() 메서드를 추가 , 인스턴스에 저장된 정보를 출력, 잔고 세자리마다 쉼표\n",
        "    def display_info(self):\n",
        "        return f'은행이름: {self.bank}, 예금주: {self.name}, 계좌번호: {self.account_code}, 잔고: {self.balance:,}'  #잔고 f.string 뒤에 :, 를 붙여서 3자릿수 마다 ,추가\n",
        "    def deposit_history(self):                  #입금 내역 추가\n",
        "        for deposit in self.deposit_story:      #입금할때마다 기록된 self.deposit_story 출력 요청.\n",
        "            print(deposit)\n",
        "\n",
        "    def withdraw_history(self):                 #출금 내역 추가\n",
        "        for withdraw in self.withdraw_story:    #출금할때마다 기록된 self.withdraw_story 출력 요청.\n",
        "            print(withdraw)\n",
        "# 여러 객체 생성 Account 클래스로부터 3개 이상 인스턴스를 생성하고 생성된 인스턴스를 리스트에 저장\n",
        "Account_list = []\n",
        "park = Account('박영수', 250000)\n",
        "son = Account('손흥민', 123456789)\n",
        "bong = Account('봉준호', 987654321)\n",
        "Account_list.append(park)\n",
        "Account_list.append(son)\n",
        "Account_list.append(bong)\n",
        "\n",
        "#객체 순회 반복문을 통해 리스트에 있는 객체를 순회하면서 잔고가 100만원 이상인 고객의 정보만 출력\n",
        "for i in Account_list:\n",
        "  if i.balance >= 1000000:\n",
        "    print(i.display_info())"
      ]
    },
    {
      "cell_type": "code",
      "source": [
        "park.get_account_num()"
      ],
      "metadata": {
        "colab": {
          "base_uri": "https://localhost:8080/"
        },
        "id": "xKLbixEpZmo0",
        "outputId": "1ae119cb-3118-439a-c6a9-67904f8481cb"
      },
      "execution_count": 58,
      "outputs": [
        {
          "output_type": "stream",
          "name": "stdout",
          "text": [
            "3\n"
          ]
        }
      ]
    },
    {
      "cell_type": "code",
      "source": [
        "park.deposit(50000)"
      ],
      "metadata": {
        "id": "sPVjlSz9O3XA"
      },
      "execution_count": 59,
      "outputs": []
    },
    {
      "cell_type": "code",
      "source": [
        "park.withdraw(200000)\n",
        "park.deposit(100000)\n",
        "park.deposit(100000)\n",
        "park.deposit(100000)\n",
        "park.deposit(100000)       #5회 이상 입금을 통한 이자 지급 내용 확인"
      ],
      "metadata": {
        "id": "a0pvV9enPZpD"
      },
      "execution_count": 60,
      "outputs": []
    },
    {
      "cell_type": "code",
      "source": [
        "park.display_info()       #초기 입금액 25만원에서 +5 -10 +10 +10 +10 +10 후 잔액인 50만원에서 1% 이자 받은 것 확인."
      ],
      "metadata": {
        "colab": {
          "base_uri": "https://localhost:8080/",
          "height": 35
        },
        "id": "MYicvw95O3dJ",
        "outputId": "dfce365e-7490-4c61-fd35-e2de01f3fe51"
      },
      "execution_count": 61,
      "outputs": [
        {
          "output_type": "execute_result",
          "data": {
            "text/plain": [
              "'은행이름: SC은행, 예금주: 박영수, 계좌번호: 465-48-513826, 잔고: 505,000.0'"
            ],
            "application/vnd.google.colaboratory.intrinsic+json": {
              "type": "string"
            }
          },
          "metadata": {},
          "execution_count": 61
        }
      ]
    },
    {
      "cell_type": "code",
      "source": [
        "park.deposit_history()    #위에 보인 박영수 계좌의 입금 기록 출력됨"
      ],
      "metadata": {
        "colab": {
          "base_uri": "https://localhost:8080/"
        },
        "id": "H94zPFm8TjLT",
        "outputId": "05f15a7c-17af-452d-fb10-94cb31f85839"
      },
      "execution_count": 63,
      "outputs": [
        {
          "output_type": "stream",
          "name": "stdout",
          "text": [
            "50000\n",
            "100000\n",
            "100000\n",
            "100000\n",
            "100000\n"
          ]
        }
      ]
    },
    {
      "cell_type": "code",
      "source": [
        "park.withdraw_history()     #위에 보인 박영수 계좌의 출금 기록 출력"
      ],
      "metadata": {
        "colab": {
          "base_uri": "https://localhost:8080/"
        },
        "id": "DUGB0sEfO3jZ",
        "outputId": "215ecff4-668d-4861-dda3-61964f79c25b"
      },
      "execution_count": 64,
      "outputs": [
        {
          "output_type": "stream",
          "name": "stdout",
          "text": [
            "200000\n"
          ]
        }
      ]
    }
  ]
}