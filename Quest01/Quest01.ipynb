{
  "nbformat": 4,
  "nbformat_minor": 0,
  "metadata": {
    "colab": {
      "provenance": [],
      "include_colab_link": true
    },
    "kernelspec": {
      "name": "python3",
      "display_name": "Python 3"
    },
    "language_info": {
      "name": "python"
    }
  },
  "cells": [
    {
      "cell_type": "markdown",
      "metadata": {
        "id": "view-in-github",
        "colab_type": "text"
      },
      "source": [
        "<a href=\"https://colab.research.google.com/github/youngsoopar/Aiffel_Core_Quest/blob/main/Quest01/Quest01.ipynb\" target=\"_parent\"><img src=\"https://colab.research.google.com/assets/colab-badge.svg\" alt=\"Open In Colab\"/></a>"
      ]
    },
    {
      "cell_type": "code",
      "execution_count": null,
      "metadata": {
        "id": "haT0CBPDbgJE",
        "colab": {
          "base_uri": "https://localhost:8080/"
        },
        "outputId": "decb8b7e-a839-444b-8df9-691c80d17c5f"
      },
      "outputs": [
        {
          "output_type": "stream",
          "name": "stdout",
          "text": [
            "11221\n",
            "뒤집힌 단어는: 12211\n",
            "입력된 단어는 회문이 아닙니다.\n"
          ]
        }
      ],
      "source": [
        "# 회문인지 확인하려는 단어 입력\n",
        "a = input()\n",
        "\n",
        "# 뒤집힌 단어 reverse_a로 할당\n",
        "reverse_a = a[::-1]\n",
        "\n",
        "# 뒤집힌 단어 출력\n",
        "print('뒤집힌 단어는:',reverse_a)\n",
        "\n",
        "# if문을 이용해 입력된 단어가 회문인지 판단\n",
        "if a == reverse_a:\n",
        "  print('입력된 단어는 회문입니다.')\n",
        "else:\n",
        "  print('입력된 단어는 회문이 아닙니다.')\n"
      ]
    }
  ]
}